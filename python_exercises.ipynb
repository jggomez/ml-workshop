{
 "cells": [
  {
   "cell_type": "markdown",
   "metadata": {},
   "source": [
    "# Machine Learning Workshop\n",
    "## Python Exercises\n",
    "### Jupyter Notebook shortcuts\n",
    "<h4>In edit & command mode:</h4><br>\n",
    "Ctrl + Enter : run selected cell<br>\n",
    "Shift + Enter : run the current cell, select below<br>\n",
    "Alt + Enter : run the current cell, insert new cell below<br>\n",
    "Ctrl + S : save and checkpoint<br>\n",
    "\n",
    "<h4>In command mode (press Esc to activate -> cell border turns from green to blue):</h4> <br>\n",
    "dd : delete current (If you delete a cell by mistake: Edit -> Undo Delete Cells)<br>\n",
    "b : insert new cell below<br>\n",
    "a: insert new cell above<br>\n"
   ]
  },
  {
   "cell_type": "markdown",
   "metadata": {},
   "source": [
    "### Warmup\n",
    "<b>1a)</b> Print the numbers 0 to 100 that are divisible by 7 <br>\n",
    "<b>1b)</b> Print the numbers 1 to 100 that are divisible by 5 but not by 3 (<i>Hint: list(range(1,101)</i>) <br> \n",
    "<b>1c)</b> Create a list with 1 million elements, loop through all elements and measure the time it takes. (<i>Hint: https://stackoverflow.com/a/1557584/8725045</i>)<br>\n",
    "<b>1d)</b> Use string.format() to print a decimal number within a sentence and round it to two digits.<br>\n",
    "E.g. decimal = 2.42664 -> output: \"The number 2.43 was rounded to two digits\""
   ]
  },
  {
   "cell_type": "code",
   "execution_count": null,
   "metadata": {},
   "outputs": [],
   "source": [
    "# 1a)"
   ]
  },
  {
   "cell_type": "code",
   "execution_count": null,
   "metadata": {},
   "outputs": [],
   "source": [
    "# 1b)"
   ]
  },
  {
   "cell_type": "code",
   "execution_count": null,
   "metadata": {},
   "outputs": [],
   "source": [
    "# 1c)"
   ]
  },
  {
   "cell_type": "code",
   "execution_count": null,
   "metadata": {},
   "outputs": [],
   "source": [
    "# 1d)"
   ]
  },
  {
   "cell_type": "markdown",
   "metadata": {},
   "source": [
    "### Lists, Sets & Dictionaries\n",
    "<b>2a)</b> Copy the list <i>a_list</i> to a list named <i>b_list</i>, and change the last element of the list to -1. Make sure that list <i>a_list</i> doesn't change!<br>\n",
    "<b>2b)</b> Let i, j = 0, ... , 100.<br>\n",
    "Generate a list containing all possible (i,j) tuples: [(0,0), (0,1), ... (1,0), (1,1), ...(100,100)] (<i>Hint: Use a nested loop</i>)<br>\n",
    "<b>2c)</b> Write a function <i>get_index_of_longest_word</i> that takes a list of strings as argument and returns the index of the longest string in the list.<br>\n",
    "E.g. get_index_of_longest_word([\"a\", \"the longest string\", \"vvva\"]) returns 1<br>\n",
    "<b>2d)</b> Do the same as in Task 2c), but without using Loops! (<i>Hint: Use map() http://book.pythontips.com/en/latest/map_filter.html, and list.index() https://docs.python.org/3/tutorial/datastructures.html http://book.pythontips.com/en/latest/map_filter.html</i>)<br>\n",
    "<b>2e)</b> Write a function <i>flatten_list()</i> that takes a list of lists as argument, and flattens it.<br>\n",
    "E.g. flatten_list([[1,2], [3,4], [5,6,7]]) returns [1,2,3,4,5,6,7].<br>\n",
    "<b>2f)</b> Write a function <i>get_sorted_unique_elements()</i> that takes a list as argument, returns a list sorted in descending order and with only the unique elements of the passed list (no duplicate values). (<i>Hint: Use set() and sorted()</i>)<br>\n",
    "<b>2g)</b> Create a dictionary, and then write a function that iterates through the dictionary and prints all key-value pairs<br>\n",
    "<b>2h)</b> Write a function that takes a dictionary as argument and returns a list of all keys that start with the letter 'b' (lower & upper case)<br>"
   ]
  },
  {
   "cell_type": "code",
   "execution_count": null,
   "metadata": {},
   "outputs": [],
   "source": [
    "# 2a)\n",
    "a_list = [1, 2, 3, 4, 5]"
   ]
  },
  {
   "cell_type": "code",
   "execution_count": null,
   "metadata": {},
   "outputs": [],
   "source": [
    "# 2b)"
   ]
  },
  {
   "cell_type": "code",
   "execution_count": null,
   "metadata": {},
   "outputs": [],
   "source": [
    "# 2c)\n",
    "c_list = [\"a\", \"the longest string\", \"vvva\"]"
   ]
  },
  {
   "cell_type": "code",
   "execution_count": null,
   "metadata": {},
   "outputs": [],
   "source": [
    "# 2d)"
   ]
  },
  {
   "cell_type": "code",
   "execution_count": null,
   "metadata": {},
   "outputs": [],
   "source": [
    "# 2e)"
   ]
  },
  {
   "cell_type": "code",
   "execution_count": null,
   "metadata": {},
   "outputs": [],
   "source": [
    "# 2f)\n",
    "f_list = [1, 66, 2, 66, 1, 3, 6, 11, 11, 11]"
   ]
  },
  {
   "cell_type": "code",
   "execution_count": null,
   "metadata": {},
   "outputs": [],
   "source": [
    "# 2g)"
   ]
  },
  {
   "cell_type": "code",
   "execution_count": null,
   "metadata": {},
   "outputs": [],
   "source": [
    "# 2h)"
   ]
  },
  {
   "cell_type": "markdown",
   "metadata": {},
   "source": [
    "### File IO\n",
    "<b>3a)</b> Read the file <i>california_house_prices.csv</i> line by line and save all lines to a new file <i>california_house_price_copy.csv</i>.<br>\n",
    "<b>3b)</b> Read the file <i>california_house_prices.csv</i> line by line, and save only rows where the column <i>ocean_proximity</i> is equal to INLAND to a new file <i>california_house_price_INLAND.csv</i><br>\n",
    "<b>3c)</b> Read the file <i>california_house_prices.csv</i> line by line, drop the columns <i>total_bedrooms</i> and <i>latitude</i>, and write all lines to a new file <i>california_house_prices_drop.csv</i> (<i>Hints: Create first a dictionary with the mapping column_name -> column number. Use the functions del, split(), join())</i><br>\n",
    "<b>3d)</b> Read the file <i>california_house_prices.csv</i> line by line, and save all unique values that occur in column <i>departure_airport</i> to a python List. (<i>Hint: Use sets</i>)<br>\n",
    "<b>3e)</b> Read the file <i>shakespeare.txt</i> and count the number of words (<i>Hints: Use the given function remove_punctuation() to remove punctuation and special characters</i>)<br>\n",
    "<b>3f)</b> Read the file <i>shakespeare.txt</i> and count the occurence of each word. (<i>Hints: Use the given function remove_punctuation() to remove punctuation and special characters. Use dictionaries OR the Counter class to count the words: https://docs.python.org/3.7/library/collections.html#collections.Counter)</i> <br>\n",
    "<b>3g)</b> Repeat Tasks 3b,3c,3d but this time using the Pandas library (install pandas with <i>pip install pandas</i> if not installed yet)<br>"
   ]
  },
  {
   "cell_type": "code",
   "execution_count": null,
   "metadata": {},
   "outputs": [],
   "source": [
    "# 3a) "
   ]
  },
  {
   "cell_type": "code",
   "execution_count": null,
   "metadata": {},
   "outputs": [],
   "source": [
    "# 3b) "
   ]
  },
  {
   "cell_type": "code",
   "execution_count": null,
   "metadata": {},
   "outputs": [],
   "source": [
    "# 3c) "
   ]
  },
  {
   "cell_type": "code",
   "execution_count": null,
   "metadata": {},
   "outputs": [],
   "source": [
    "# 3d) "
   ]
  },
  {
   "cell_type": "code",
   "execution_count": null,
   "metadata": {},
   "outputs": [],
   "source": [
    "# 3e) \n",
    "def remove_punctuation(text):\n",
    "    import re\n",
    "    pattern = r'[^a-zA-z\\s]'\n",
    "    text = re.sub(pattern, '', text) # This removes all characters that aren't letters\n",
    "    text = text.lower() #  Lowercase\n",
    "    return text\n",
    "\n",
    "print(remove_punctuation(\"...UN EjeMplo###@ ;;\"))"
   ]
  },
  {
   "cell_type": "code",
   "execution_count": null,
   "metadata": {},
   "outputs": [],
   "source": [
    "# 3f) "
   ]
  },
  {
   "cell_type": "code",
   "execution_count": null,
   "metadata": {},
   "outputs": [],
   "source": [
    "# 3g)\n",
    "import pandas as pd"
   ]
  },
  {
   "cell_type": "markdown",
   "metadata": {},
   "source": [
    "### Bonus exercises"
   ]
  },
  {
   "cell_type": "markdown",
   "metadata": {},
   "source": [
    "<b>4a)</b> Write a function <i>reverse_dict()</i> that takes a dictionary as argument and reverses its keys & values. What happens in the case where multiple keys have the same value?<br>\n",
    "Example:<br>\n",
    "<code>reverse_dict({\"CA\": \"US\", \"NY\": \"US\", \"ON\": \"CA\"})\n",
    " => {\"US\": [\"CA\", \"NY\"], \"CA\": [\"ON\"]}</code>.\n",
    " \n",
    "<b>4b)</b> Write a function <i>average()</i> that takes a list of numbers as argument and calculates its average value (https://en.wikipedia.org/wiki/Arithmetic_mean). Do it first with a loop, and then implement a second version without loop.<br>\n",
    "<b>4c)</b> Define a new class <i>Person</i> with the properties <i>name, age</i>. Create an object instance of this class and then convert it then to a JSON string.<br><i>E.g. '{\"name\": \"Mayra\", \"age\": 21}'</i><br>\n",
    "<b>4d)</b> Write a function <i>division(a,b)</i> that takes two numbers as argument. The function should catch divisions by (b=0) and return null in this case, instead of throwing an Error. (Use <i>try, catch</i> to handle the divisions by 0)<br>\n",
    "<b>4e)</b> Write a function <i>convert_fahrenheit_to_celcius()</i> that asks the user to enter a temperature in fahrenheit, and converts it to celcius.<br>\n",
    "<b>4f)</b> Write a function <i>vector_multiplication()</i> that takes two lists of numbers (vectors) and multiplies them element by element. Measure the time it takes for a multiplication of two vectors with 1 million elements. Now do the same using the Numpy library, and measure the time again."
   ]
  },
  {
   "cell_type": "code",
   "execution_count": null,
   "metadata": {},
   "outputs": [],
   "source": [
    "# 4a)"
   ]
  },
  {
   "cell_type": "code",
   "execution_count": null,
   "metadata": {},
   "outputs": [],
   "source": [
    "# 4b)"
   ]
  },
  {
   "cell_type": "code",
   "execution_count": null,
   "metadata": {},
   "outputs": [],
   "source": [
    "# 4c)"
   ]
  },
  {
   "cell_type": "code",
   "execution_count": null,
   "metadata": {},
   "outputs": [],
   "source": [
    "# 4d)"
   ]
  },
  {
   "cell_type": "code",
   "execution_count": null,
   "metadata": {},
   "outputs": [],
   "source": [
    "# 4e)"
   ]
  },
  {
   "cell_type": "code",
   "execution_count": null,
   "metadata": {},
   "outputs": [],
   "source": [
    "# 4f)"
   ]
  }
 ],
 "metadata": {
  "kernelspec": {
   "display_name": "Python 3",
   "language": "python",
   "name": "python3"
  },
  "language_info": {
   "codemirror_mode": {
    "name": "ipython",
    "version": 3
   },
   "file_extension": ".py",
   "mimetype": "text/x-python",
   "name": "python",
   "nbconvert_exporter": "python",
   "pygments_lexer": "ipython3",
   "version": "3.7.3"
  }
 },
 "nbformat": 4,
 "nbformat_minor": 2
}
