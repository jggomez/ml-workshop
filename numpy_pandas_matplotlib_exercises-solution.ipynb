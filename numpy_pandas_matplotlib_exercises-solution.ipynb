{
 "cells": [
  {
   "cell_type": "markdown",
   "metadata": {},
   "source": [
    "# Machine Learning Workshop\n",
    "## Introduction to Numpy, Pandas & Matplotlib\n",
    "https://docs.scipy.org/doc/numpy/reference/ <br>\n",
    "https://pandas.pydata.org/pandas-docs/stable/reference/ <br>\n",
    "https://matplotlib.org/3.1.1/api/pyplot_summary.html"
   ]
  },
  {
   "cell_type": "markdown",
   "metadata": {},
   "source": [
    "### Numpy\n",
    "<b>1a)</b> Convert a Python List of numbers to a numpy array<br>\n",
    "<b>1b)</b> Create a numpy array with values i=0,1,...99<br>\n",
    "<b>1c)</b> Create a matrix of dimension (100,5) with random integer values between 0 and 100<br>\n",
    "<b>1d)</b> Multiply the vector from b) with the created matrix from c)<br>\n",
    "<b>1e)</b> Calculate the mean value, median value and standard variance of the vector from b)<br>\n",
    "<b>1f)</b> Calculate the mean value of each column of the matrix defined in c)<br>\n",
    "<b>1g)</b> Calculate the min and max values of a vector <br>\n",
    "<b>1h)</b> Create a random vector of dimension 100 with a normal distribution with mean value 10 and std. deviation 3 <br>\n",
    "<b>1i)</b> Convert the vector from by to type np.int8 <br>\n",
    "<b>1j)</b> Sort the vector from h) <br>\n",
    "<b>1k)</b> Create a new vector containing only values bigger than 11 from the vector in h) (<i>Hint: np.where</i>) <br>\n",
    "<b>1l)</b> Randomly select a subset of 10 values from of the vector defined in h) (<i>Hint: np.random.choice()</i>) <br>\n",
    "<b>1m)</b> Randomly shuffle the rows of the matrix defined in c) (<i>Hint: np.random.shuffle()</i>) <br>\n",
    "<b>1n)</b> Concatenate two instances of the matrix defined in c) (<i>Hint: np.concatenate()</i>) <br>"
   ]
  },
  {
   "cell_type": "code",
   "execution_count": null,
   "metadata": {},
   "outputs": [],
   "source": [
    "import numpy as np\n",
    "\n",
    "# 1a)\n",
    "a = np.array([1,5,3,6,6,4])\n",
    "# a.dtype"
   ]
  },
  {
   "cell_type": "code",
   "execution_count": null,
   "metadata": {},
   "outputs": [],
   "source": [
    "# 1b)\n",
    "b = np.arange(100)\n",
    "type(b)"
   ]
  },
  {
   "cell_type": "code",
   "execution_count": null,
   "metadata": {},
   "outputs": [],
   "source": [
    "# 1c)\n",
    "c = np.random.randint(10,1000, size=(100,5))"
   ]
  },
  {
   "cell_type": "code",
   "execution_count": null,
   "metadata": {},
   "outputs": [],
   "source": [
    "# 1d)\n",
    "b*np.matrix(c)"
   ]
  },
  {
   "cell_type": "code",
   "execution_count": null,
   "metadata": {},
   "outputs": [],
   "source": [
    "# 1e)\n",
    "np.std(b)\n",
    "b.std()\n",
    "\n",
    "np.median(b)\n",
    "np.mean(b)"
   ]
  },
  {
   "cell_type": "code",
   "execution_count": null,
   "metadata": {},
   "outputs": [],
   "source": [
    "# 1f)\n",
    "c.mean(axis=0)"
   ]
  },
  {
   "cell_type": "code",
   "execution_count": null,
   "metadata": {},
   "outputs": [],
   "source": [
    "# 1g)\n",
    "b.min()\n",
    "b.max()\n",
    "\n",
    "np.min(b)\n",
    "np.max(b)"
   ]
  },
  {
   "cell_type": "code",
   "execution_count": null,
   "metadata": {},
   "outputs": [],
   "source": [
    "# 1h\n",
    "h = np.random.normal(10, 3, size=100)"
   ]
  },
  {
   "cell_type": "code",
   "execution_count": null,
   "metadata": {},
   "outputs": [],
   "source": [
    "# 1i)\n",
    "h.astype('int8')"
   ]
  },
  {
   "cell_type": "code",
   "execution_count": null,
   "metadata": {},
   "outputs": [],
   "source": [
    "# 1j)\n",
    "h.sort()\n",
    "h"
   ]
  },
  {
   "cell_type": "code",
   "execution_count": null,
   "metadata": {},
   "outputs": [],
   "source": [
    "# 1k)\n",
    "j = h[np.where(h > 11)]"
   ]
  },
  {
   "cell_type": "code",
   "execution_count": null,
   "metadata": {},
   "outputs": [],
   "source": [
    "# 1l)\n",
    "np.random.choice(j, 10)"
   ]
  },
  {
   "cell_type": "code",
   "execution_count": null,
   "metadata": {},
   "outputs": [],
   "source": [
    "# 1m)\n",
    "np.random.shuffle(c)\n",
    "c"
   ]
  },
  {
   "cell_type": "code",
   "execution_count": null,
   "metadata": {},
   "outputs": [],
   "source": [
    "# 1n)\n",
    "np.concatenate([c,c], axis=1)\n",
    "np.concatenate([c,c], axis=0)"
   ]
  },
  {
   "cell_type": "markdown",
   "metadata": {},
   "source": [
    "### Pandas\n",
    "<b>2a)</b> Create a pandas DataFrame from the numpy matrix defined in 1c) <br>\n",
    "<b>2b)</b> Apply the function <i>DataFrame.describe()</i> to the DataFrame defined in a) <br>\n",
    "<b>2c)</b> Now calculate the mean values of each column of the dataframe from a) <br>\n",
    "<b>2d)</b> Shuffle the rows of the DataFrame from a) randomly (<i>Hint: df.sample()</i>) <br>\n",
    "<b>2e)</b> Look at the index column of the dataframe from d), what happened? </i> <br>\n",
    "<b>2f)</b> Take the DataFrame from d) and try to access the first row using .iloc and .loc <br>\n",
    "<b>2g)</b> Extract all rows from the DataFrame from a) where the value in the first column is bigger than 20 <br>\n",
    "<b>2h)</b> Extract all rows from the DataFrame from a) where the value in the first column is bigger than 40 or smaller than 10 <br>\n",
    "<b>2i)</b> Get the number of rows and columns from the DataFrame object defined in d)<br>\n",
    "<b>2j)</b> Split the DataFrame from d) into to new dataframes df_train, df_test, where df_train contains 80% of all rows <br>\n",
    "<b>2k)</b> Drop one of the columns of the DataFrame defined in a) <br>\n",
    "<b>2l)</b> Sort the values of the DataFrame defined in a) by the values in the first column (<i>Hint: df.sort_values())</i><br>\n",
    "<b>2m)</b> Use the matplotlib functions integrated into the DataFrame class (DataFrame.plot) to plot the values of all columns in the DataFrame from a) <i>df.plot()</i> <br>\n",
    "<b>2n)</b> Plot the distribution of the values in the first column of the DataFrame from a) using DataFrame.plot.hist() <br>\n",
    "<b>2o)</b> Plot the correlation between the first and the second column in the DataFrame from a) using DataFrame.plot.scatter() <br>\n",
    "<b>2p)</b> Create boxplot of all columns of the DataFrame from a) using DataFrame.plot.box() <br>\n"
   ]
  },
  {
   "cell_type": "code",
   "execution_count": null,
   "metadata": {},
   "outputs": [],
   "source": [
    "import pandas as pd\n",
    "import numpy as np"
   ]
  },
  {
   "cell_type": "code",
   "execution_count": null,
   "metadata": {},
   "outputs": [],
   "source": [
    "# 2a)\n",
    "df_a = pd.DataFrame(np.random.randint(0,100,size=(100,5)), columns=list(\"ABCDE\"))"
   ]
  },
  {
   "cell_type": "code",
   "execution_count": null,
   "metadata": {},
   "outputs": [],
   "source": [
    "# 2b)\n",
    "df_a.describe()\n"
   ]
  },
  {
   "cell_type": "code",
   "execution_count": null,
   "metadata": {},
   "outputs": [],
   "source": [
    "# 2c)\n",
    "df_a.mean()"
   ]
  },
  {
   "cell_type": "code",
   "execution_count": null,
   "metadata": {},
   "outputs": [],
   "source": [
    "# 2d)\n",
    "df_a = df_a.sample(frac=1)\n",
    "# a.sample(frac=1).reset_index()"
   ]
  },
  {
   "cell_type": "code",
   "execution_count": null,
   "metadata": {},
   "outputs": [],
   "source": [
    "# 2e)\n",
    "df_a.head()"
   ]
  },
  {
   "cell_type": "code",
   "execution_count": null,
   "metadata": {},
   "outputs": [],
   "source": [
    "# 2f)\n",
    "df_a.loc[0] != df_a.iloc[0]"
   ]
  },
  {
   "cell_type": "code",
   "execution_count": null,
   "metadata": {},
   "outputs": [],
   "source": [
    "# 2g)\n",
    "df_a.loc[(df_a[0]>20), :]"
   ]
  },
  {
   "cell_type": "code",
   "execution_count": null,
   "metadata": {},
   "outputs": [],
   "source": [
    "# 2h)\n",
    "df_a.loc[(df_a[0]>40) | (df_a[0]<10), :]"
   ]
  },
  {
   "cell_type": "code",
   "execution_count": null,
   "metadata": {},
   "outputs": [],
   "source": [
    "# 2i)\n",
    "df_a.shape"
   ]
  },
  {
   "cell_type": "code",
   "execution_count": null,
   "metadata": {},
   "outputs": [],
   "source": [
    "# 2j)\n",
    "train_size = int(0.8*len(df_a))\n",
    "\n",
    "df_train = df_a.iloc[:train_size]\n",
    "df_test = df_a.iloc[train_size:]"
   ]
  },
  {
   "cell_type": "code",
   "execution_count": null,
   "metadata": {},
   "outputs": [],
   "source": [
    "# 2k)\n",
    "df_k = df_a.drop('A', axis=1)"
   ]
  },
  {
   "cell_type": "code",
   "execution_count": null,
   "metadata": {},
   "outputs": [],
   "source": [
    "# 2l)\n",
    "df_a.sort_values(by='A')"
   ]
  },
  {
   "cell_type": "code",
   "execution_count": null,
   "metadata": {},
   "outputs": [],
   "source": [
    "# 2m)\n",
    "df_a.plot()"
   ]
  },
  {
   "cell_type": "code",
   "execution_count": null,
   "metadata": {},
   "outputs": [],
   "source": [
    "# 2n)\n",
    "df_a['A'].plot.hist()"
   ]
  },
  {
   "cell_type": "code",
   "execution_count": null,
   "metadata": {},
   "outputs": [],
   "source": [
    "# 2o)\n",
    "df_a.plot.scatter(x='A', y='B')"
   ]
  },
  {
   "cell_type": "code",
   "execution_count": null,
   "metadata": {},
   "outputs": [],
   "source": [
    "# 2p)\n",
    "df_a.plot.box()"
   ]
  },
  {
   "cell_type": "markdown",
   "metadata": {},
   "source": [
    "### Matplotlib & Seaborn\n",
    "Use the DataFrame df given below to perform the following Tasks: <br>\n",
    "<b>3a)</b> Plot the values of all columns in df, using a simple line plot()  <br>\n",
    "<b>3b)</b> Plot the distribution of df, using a histogram plot  <br>\n",
    "<b>3c)</b> Plot the correlation of columns 'A' and 'B' in df, using a scatter plot  <br>\n",
    "<b>3d)</b> Create a figure with 3 subplots using plt.subplots() and plot the distributions of columns 'A' and 'B' and its correlation <br>\n",
    "<b>3e)</b> Create a boxplot for column 'A' <br>\n",
    "<b>3f)</b> Create a boxplot for all columns <br>\n",
    "<b>3g)</b> Use seaborn's pairplot function to plot all distributions and the correlations between all columns <br>\n",
    "<b>3h)</b> Use seaborn's heatmap function to plot the absolute values of the correlation matrix of df <br>\n"
   ]
  },
  {
   "cell_type": "code",
   "execution_count": null,
   "metadata": {},
   "outputs": [],
   "source": [
    "import matplotlib.pyplot as plt\n",
    "import seaborn as sns\n",
    "import pandas as pd\n",
    "import numpy as np\n",
    "\n",
    "df = pd.DataFrame(np.random.randn(100, 4), columns = list(\"ABCD\"))\n",
    "df.head()"
   ]
  },
  {
   "cell_type": "code",
   "execution_count": null,
   "metadata": {},
   "outputs": [],
   "source": [
    "# 3a)\n",
    "plt.plot(df)"
   ]
  },
  {
   "cell_type": "code",
   "execution_count": null,
   "metadata": {},
   "outputs": [],
   "source": [
    "# 3b)\n",
    "plt.hist(df['B'])"
   ]
  },
  {
   "cell_type": "code",
   "execution_count": null,
   "metadata": {},
   "outputs": [],
   "source": [
    "# 3c)\n",
    "plt.scatter(df['A'], df['B'])"
   ]
  },
  {
   "cell_type": "code",
   "execution_count": null,
   "metadata": {},
   "outputs": [],
   "source": [
    "# 3d)\n",
    "fig, axs = plt.subplots(3)\n",
    "\n",
    "axs[0].hist(df['A'])\n",
    "axs[1].hist(df['B'])\n",
    "axs[2].scatter(df['A'], df['B'])"
   ]
  },
  {
   "cell_type": "code",
   "execution_count": null,
   "metadata": {},
   "outputs": [],
   "source": [
    "# 3e)\n",
    "plt.boxplot(df['A'])"
   ]
  },
  {
   "cell_type": "code",
   "execution_count": null,
   "metadata": {},
   "outputs": [],
   "source": [
    "# 3f)\n",
    "plt.boxplot(df.values)"
   ]
  },
  {
   "cell_type": "code",
   "execution_count": null,
   "metadata": {},
   "outputs": [],
   "source": [
    "# 3g)\n",
    "sns.pairplot(df)"
   ]
  },
  {
   "cell_type": "code",
   "execution_count": null,
   "metadata": {},
   "outputs": [],
   "source": [
    "# 3h)\n",
    "sns.heatmap(df.corr().abs(), cmap=\"gray\")"
   ]
  }
 ],
 "metadata": {
  "kernelspec": {
   "display_name": "ml-workshop-env",
   "language": "python",
   "name": "ml-workshop-env"
  },
  "language_info": {
   "codemirror_mode": {
    "name": "ipython",
    "version": 3
   },
   "file_extension": ".py",
   "mimetype": "text/x-python",
   "name": "python",
   "nbconvert_exporter": "python",
   "pygments_lexer": "ipython3",
   "version": "3.7.3"
  }
 },
 "nbformat": 4,
 "nbformat_minor": 2
}
