{
  "nbformat": 4,
  "nbformat_minor": 0,
  "metadata": {
    "colab": {
      "name": "Python_Exercises.ipynb",
      "version": "0.3.2",
      "provenance": [],
      "collapsed_sections": [],
      "include_colab_link": true
    },
    "kernelspec": {
      "name": "python3",
      "display_name": "Python 3"
    }
  },
  "cells": [
    {
      "cell_type": "markdown",
      "metadata": {
        "id": "view-in-github",
        "colab_type": "text"
      },
      "source": [
        "<a href=\"https://colab.research.google.com/github/jggomez/ml-workshop/blob/master/Python_Exercises.ipynb\" target=\"_parent\"><img src=\"https://colab.research.google.com/assets/colab-badge.svg\" alt=\"Open In Colab\"/></a>"
      ]
    },
    {
      "cell_type": "markdown",
      "metadata": {
        "id": "MUHzZzBBnsvv",
        "colab_type": "text"
      },
      "source": [
        "# **Python Exercises**"
      ]
    },
    {
      "cell_type": "markdown",
      "metadata": {
        "id": "IAOTtZ4p26rn",
        "colab_type": "text"
      },
      "source": [
        "\n",
        "# Warmup\n",
        "\n"
      ]
    },
    {
      "cell_type": "markdown",
      "metadata": {
        "id": "PNkj_9kM4I1a",
        "colab_type": "text"
      },
      "source": [
        "**1a)** Print the numbers 0 to 100 that are divisible by 7"
      ]
    },
    {
      "cell_type": "code",
      "metadata": {
        "id": "NhCOx2gSyohB",
        "colab_type": "code",
        "outputId": "2f0ea972-ed76-47da-a3cd-11ff7d363ba3",
        "colab": {
          "base_uri": "https://localhost:8080/",
          "height": 272
        }
      },
      "source": [
        "for num in range(100):\n",
        "  if num % 7 == 0:\n",
        "    print(num)\n",
        "    "
      ],
      "execution_count": 0,
      "outputs": [
        {
          "output_type": "stream",
          "text": [
            "0\n",
            "7\n",
            "14\n",
            "21\n",
            "28\n",
            "35\n",
            "42\n",
            "49\n",
            "56\n",
            "63\n",
            "70\n",
            "77\n",
            "84\n",
            "91\n",
            "98\n"
          ],
          "name": "stdout"
        }
      ]
    },
    {
      "cell_type": "markdown",
      "metadata": {
        "id": "tVSmM42z4enY",
        "colab_type": "text"
      },
      "source": [
        "**1b)** Print the numbers 1 to 100 that are divisible by 5 but not by 3 (Hint: list(range(1,101))"
      ]
    },
    {
      "cell_type": "code",
      "metadata": {
        "id": "xVySzLw24k8j",
        "colab_type": "code",
        "outputId": "d0844672-71a1-4ae9-d66f-a21747764bee",
        "colab": {
          "base_uri": "https://localhost:8080/",
          "height": 238
        }
      },
      "source": [
        "for num in range(100):\n",
        "  if num % 5 == 0 and not num % 3 == 0:\n",
        "    print(num)"
      ],
      "execution_count": 0,
      "outputs": [
        {
          "output_type": "stream",
          "text": [
            "5\n",
            "10\n",
            "20\n",
            "25\n",
            "35\n",
            "40\n",
            "50\n",
            "55\n",
            "65\n",
            "70\n",
            "80\n",
            "85\n",
            "95\n"
          ],
          "name": "stdout"
        }
      ]
    },
    {
      "cell_type": "markdown",
      "metadata": {
        "id": "jg71R8Fe4_XI",
        "colab_type": "text"
      },
      "source": [
        "**1c)** Create a list with 1 million elements, loop through all elements and measure the time it takes. (Hint: https://stackoverflow.com/a/1557584/8725045)"
      ]
    },
    {
      "cell_type": "code",
      "metadata": {
        "id": "niknkcoC5A-z",
        "colab_type": "code",
        "outputId": "1926d8bc-74a2-418c-be96-56c494088179",
        "colab": {
          "base_uri": "https://localhost:8080/",
          "height": 34
        }
      },
      "source": [
        "import time\n",
        "start_time = time.time()\n",
        "lst = []\n",
        "for num in range(1000000):\n",
        "  lst.append(num)\n",
        "print(\"--- %s seconds ---\" % (time.time() - start_time))\n",
        "  "
      ],
      "execution_count": 0,
      "outputs": [
        {
          "output_type": "stream",
          "text": [
            "--- 0.25800538063049316 seconds ---\n"
          ],
          "name": "stdout"
        }
      ]
    },
    {
      "cell_type": "code",
      "metadata": {
        "id": "Wp5aI0P0lfYH",
        "colab_type": "code",
        "outputId": "8e6e259a-20ab-4b88-ccb2-85d8ed5a69de",
        "colab": {
          "base_uri": "https://localhost:8080/",
          "height": 34
        }
      },
      "source": [
        "a = [1]*10\n",
        "print(a)"
      ],
      "execution_count": 0,
      "outputs": [
        {
          "output_type": "stream",
          "text": [
            "[1, 1, 1, 1, 1, 1, 1, 1, 1, 1]\n"
          ],
          "name": "stdout"
        }
      ]
    },
    {
      "cell_type": "markdown",
      "metadata": {
        "id": "QwUqGC_WbUVP",
        "colab_type": "text"
      },
      "source": [
        "**1d)** Use string.format() to print a decimal number within a sentence and round it to two digits.\n",
        "E.g. decimal = 2.42664 -> output: \"The number 2.43 was rounded to two digits\""
      ]
    },
    {
      "cell_type": "code",
      "metadata": {
        "id": "wjrguvNXbUDG",
        "colab_type": "code",
        "outputId": "b74dc9d3-220a-4feb-e473-b4ece09cc62d",
        "colab": {
          "base_uri": "https://localhost:8080/",
          "height": 34
        }
      },
      "source": [
        "def num_sentence(number):\n",
        "  print(\"The number {:.2f} was rounded to two digits\".format(number))\n",
        "  \n",
        "num_sentence(2.42664)"
      ],
      "execution_count": 0,
      "outputs": [
        {
          "output_type": "stream",
          "text": [
            "The number 2.43 was rounded to two digits\n"
          ],
          "name": "stdout"
        }
      ]
    },
    {
      "cell_type": "markdown",
      "metadata": {
        "id": "feHQFh8gl742",
        "colab_type": "text"
      },
      "source": [
        "# **Lists, Sets & Dictionaries**"
      ]
    },
    {
      "cell_type": "markdown",
      "metadata": {
        "id": "Vvyii4xqmDAQ",
        "colab_type": "text"
      },
      "source": [
        "**2a)** Copy the list a_list to a list named b_list, and change the last element of the list to -1. Make sure that list a_list doesn't change!"
      ]
    },
    {
      "cell_type": "code",
      "metadata": {
        "id": "vho6AjTWlC4X",
        "colab_type": "code",
        "outputId": "1ff0e2cb-67e3-47bb-9d31-359300991524",
        "colab": {
          "base_uri": "https://localhost:8080/",
          "height": 34
        }
      },
      "source": [
        "a_list = [1, 2, 3, 4, 5]\n",
        "b_list = a_list.copy()\n",
        "b_list[len(b_list) - 1] = -1\n",
        "b_list"
      ],
      "execution_count": 0,
      "outputs": [
        {
          "output_type": "execute_result",
          "data": {
            "text/plain": [
              "[1, 2, 3, 4, -1]"
            ]
          },
          "metadata": {
            "tags": []
          },
          "execution_count": 9
        }
      ]
    },
    {
      "cell_type": "markdown",
      "metadata": {
        "id": "IhanHtWpm2zV",
        "colab_type": "text"
      },
      "source": [
        "**2b)** Let i, j = 0, ... , 100.\n",
        "Generate a list containing all possible (i,j) tuples: [(0,0), (0,1), ... (1,0), (1,1), ...(100,100)] (Hint: Use a nested loop)"
      ]
    },
    {
      "cell_type": "code",
      "metadata": {
        "id": "Pd1w5eZSIBhH",
        "colab_type": "code",
        "colab": {}
      },
      "source": [
        "lst = []\n",
        "for x in range(101):\n",
        "  for y in range(10):\n",
        "    lst.append((x,y))\n",
        "lst"
      ],
      "execution_count": 0,
      "outputs": []
    },
    {
      "cell_type": "markdown",
      "metadata": {
        "id": "lCRgXxGuMQcI",
        "colab_type": "text"
      },
      "source": [
        "**2c)** Write a function get_index_of_longest_word that takes a list of strings as argument and returns the index of the longest string in the list."
      ]
    },
    {
      "cell_type": "code",
      "metadata": {
        "id": "RgJBNEzDMTAD",
        "colab_type": "code",
        "colab": {
          "base_uri": "https://localhost:8080/",
          "height": 34
        },
        "outputId": "7d01ca45-f2c0-4856-90bc-884754fd1510"
      },
      "source": [
        "def get_index_of_longest_word(lstStrings):\n",
        "  index = -1\n",
        "  lentmp = 0\n",
        "  for i, cad in enumerate(lstStrings):    \n",
        "    if(len(cad) > lentmp):\n",
        "      index = i\n",
        "      lentmp = len(cad)\n",
        "  return index\n",
        "\n",
        "print(get_index_of_longest_word([\"hola\", \"World\", \"DevHack\"]))\n",
        "\n",
        "  "
      ],
      "execution_count": 24,
      "outputs": [
        {
          "output_type": "stream",
          "text": [
            "2\n"
          ],
          "name": "stdout"
        }
      ]
    }
  ]
}